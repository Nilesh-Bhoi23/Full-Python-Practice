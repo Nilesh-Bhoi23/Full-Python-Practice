{
 "cells": [
  {
   "cell_type": "code",
   "execution_count": null,
   "metadata": {},
   "outputs": [],
   "source": [
    "# Subscriptions\n",
    "# A new TV streaming service was recently started in Chefland called the Chef-TV.\n",
    "\n",
    "# A group of \n",
    "# �\n",
    "# N friends in Chefland want to buy Chef-TV subscriptions. We know that \n",
    "# 6\n",
    "# 6 people can share one Chef-TV subscription. Also, the cost of one Chef-TV subscription is \n",
    "# �\n",
    "# X rupees. Determine the minimum total cost that the group of \n",
    "# �\n",
    "# N friends will incur so that everyone in the group is able to use Chef-TV.\n",
    "\n",
    "# Input Format\n",
    "# The first line contains a single integer \n",
    "# �\n",
    "# T — the number of test cases. Then the test cases follow.\n",
    "# The first and only line of each test case contains two integers \n",
    "# �\n",
    "# N and \n",
    "# �\n",
    "# X — the size of the group of friends and the cost of one subscription.\n",
    "# Output Format\n",
    "# For each test case, output the minimum total cost that the group will incur so that everyone in the group is able to use Chef-TV.\n",
    "\n",
    "# t = 3\n",
    "#  in     output\n",
    "# 1 100 = 100 \n",
    "# 12 250 = 500\n",
    "# 16 135 = 405 "
   ]
  },
  {
   "cell_type": "code",
   "execution_count": null,
   "metadata": {},
   "outputs": [],
   "source": [
    "t = int(input())\n",
    "for i in range(t):\n",
    "    n,x = map(int,input().split())\n",
    "    subscriptions = (n + 5) // 6 \n",
    "    total_cost = subscriptions * x\n",
    "    print(total_cost) \n",
    "    \n"
   ]
  }
 ],
 "metadata": {
  "kernelspec": {
   "display_name": "Python 3",
   "language": "python",
   "name": "python3"
  },
  "language_info": {
   "codemirror_mode": {
    "name": "ipython",
    "version": 3
   },
   "file_extension": ".py",
   "mimetype": "text/x-python",
   "name": "python",
   "nbconvert_exporter": "python",
   "pygments_lexer": "ipython3",
   "version": "3.11.8"
  }
 },
 "nbformat": 4,
 "nbformat_minor": 2
}
