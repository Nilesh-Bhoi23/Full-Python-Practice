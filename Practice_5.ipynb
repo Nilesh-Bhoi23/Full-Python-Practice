{
 "cells": [
  {
   "cell_type": "code",
   "execution_count": null,
   "metadata": {},
   "outputs": [],
   "source": [
    "# Course Registration\n",
    "# There is a group of \n",
    "# �\n",
    "# N friends who wish to enroll in a course together. The course has a maximum capacity of \n",
    "# �\n",
    "# M students that can register for it. If there are \n",
    "# �\n",
    "# K other students who have already enrolled in the course, determine if it will still be possible for all the \n",
    "# �\n",
    "# N friends to do so or not.\n",
    "\n",
    "# Input Format\n",
    "# The first line contains a single integer \n",
    "# �\n",
    "# T - the number of test cases. Then the test cases follow.\n",
    "# Each test case consists of a single line containing three integers \n",
    "# �\n",
    "# N, \n",
    "# �\n",
    "# M and \n",
    "# �\n",
    "# K - the size of the friend group, the capacity of the course and the number of students already registered for the course.\n",
    "# Output Format\n",
    "# For each test case, output Yes if it will be possible for all the \n",
    "# �\n",
    "# N friends to register for the course. Otherwise output No.\n",
    "\n",
    "# You may print each character of Yes and No in uppercase or lowercase (for example, yes, yEs, YES will be considered identical).\n",
    "\n",
    "# in            out\n",
    "# 3\n",
    "# 2 50 27       yes\n",
    "# 5 40 38       no\n",
    "# 100 100 0     no"
   ]
  },
  {
   "cell_type": "code",
   "execution_count": null,
   "metadata": {},
   "outputs": [],
   "source": [
    "# cook your dish here\n",
    "t = int(input())\n",
    "for i in range(t):\n",
    "    n,m,k = map(int,input().split())\n",
    "    if (n + k) <= m:\n",
    "        print(\"YES\")\n",
    "    else:\n",
    "        print(\"NO\")"
   ]
  }
 ],
 "metadata": {
  "language_info": {
   "name": "python"
  }
 },
 "nbformat": 4,
 "nbformat_minor": 2
}
