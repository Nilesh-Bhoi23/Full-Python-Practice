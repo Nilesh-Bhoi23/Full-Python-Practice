{
 "cells": [
  {
   "cell_type": "markdown",
   "id": "a2a97a6f-fd57-4d39-8611-d6545823cd7a",
   "metadata": {},
   "source": [
    "### All Operators"
   ]
  },
  {
   "cell_type": "code",
   "execution_count": 6,
   "id": "af503da4-021b-48b5-8d41-7fcbb1f71b11",
   "metadata": {},
   "outputs": [
    {
     "name": "stdin",
     "output_type": "stream",
     "text": [
      "Enter no 1 : 40\n",
      "Enter no 1 : 40\n"
     ]
    },
    {
     "name": "stdout",
     "output_type": "stream",
     "text": [
      "addition 80\n",
      "substraction 0\n",
      "multification 1600\n",
      "divition 1.0\n",
      "modulas 0\n",
      "modulas 12089258196146291747061760000000000000000000000000000000000000000\n"
     ]
    }
   ],
   "source": [
    "in_n1 = int(input('Enter no 1 :'))\n",
    "in_n2 = int(input('Enter no 1 :'))\n",
    "\n",
    "print('addition',in_n1+in_n2)\n",
    "print('substraction',in_n1-in_n2)\n",
    "print('multification',in_n1*in_n2)\n",
    "print('divition',in_n1/in_n2)\n",
    "print('modulas',in_n1%in_n2)\n",
    "print('exponention',in_n1**in_n2)"
   ]
  },
  {
   "cell_type": "code",
   "execution_count": 7,
   "id": "908b3c24-19d0-43d4-bdae-63a3099d13d9",
   "metadata": {},
   "outputs": [
    {
     "name": "stdout",
     "output_type": "stream",
     "text": [
      "False\n",
      "False\n",
      "True\n",
      "True\n",
      "True\n"
     ]
    }
   ],
   "source": [
    "print(in_n1 > in_n2)\n",
    "print(in_n1 < in_n2)\n",
    "print(in_n1 >= in_n2)\n",
    "print(in_n1 <= in_n2)\n",
    "print(in_n1 == in_n2)"
   ]
  },
  {
   "cell_type": "code",
   "execution_count": 8,
   "id": "2b9ec921-5341-4f43-a401-9ae07a9f1184",
   "metadata": {},
   "outputs": [
    {
     "name": "stdout",
     "output_type": "stream",
     "text": [
      "in_n2 is greater\n"
     ]
    }
   ],
   "source": [
    "if in_n1 > in_n2:\n",
    "    print('in_n1 is greater')\n",
    "else:\n",
    "    print('in_n2 is greater')"
   ]
  },
  {
   "cell_type": "code",
   "execution_count": null,
   "id": "c5c61046-fc40-4264-8603-7421294d9e8b",
   "metadata": {},
   "outputs": [],
   "source": []
  }
 ],
 "metadata": {
  "kernelspec": {
   "display_name": "Python 3 (ipykernel)",
   "language": "python",
   "name": "python3"
  },
  "language_info": {
   "codemirror_mode": {
    "name": "ipython",
    "version": 3
   },
   "file_extension": ".py",
   "mimetype": "text/x-python",
   "name": "python",
   "nbconvert_exporter": "python",
   "pygments_lexer": "ipython3",
   "version": "3.12.1"
  }
 },
 "nbformat": 4,
 "nbformat_minor": 5
}
