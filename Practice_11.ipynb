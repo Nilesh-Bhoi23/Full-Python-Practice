{
 "cells": [
  {
   "cell_type": "code",
   "execution_count": null,
   "metadata": {},
   "outputs": [],
   "source": [
    "# Overspeeding Fine\n",
    "# Chef was driving on a highway at a speed of \n",
    "# 𝑋\n",
    "# X km/hour.\n",
    "\n",
    "# To avoid accidents, there are fine imposed on overspeeding as follows:\n",
    "\n",
    "# No fine if the speed of the car \n",
    "# ≤\n",
    "# 70\n",
    "# ≤70 km/hour.\n",
    "# Rs \n",
    "# 500\n",
    "# 500 fine if the speed of the car is strictly greater than \n",
    "# 70\n",
    "# 70 and \n",
    "# ≤\n",
    "# 100\n",
    "# ≤100.\n",
    "# Rs \n",
    "# 2000\n",
    "# 2000 fine if the speed of the car is strictly greater than \n",
    "# 100\n",
    "# 100.\n",
    "# Determine the fine Chef needs to pay.\n",
    "\n",
    "# Input Format\n",
    "# The first line of input will contain a single integer \n",
    "# 𝑇\n",
    "# T, denoting the number of test cases.\n",
    "# Each test case consists of a single integer \n",
    "# 𝑋\n",
    "# X denoting the speed of Chef's car.\n",
    "# 7\n",
    "# 40   0\n",
    "# 110  2000\n",
    "# 70   0\n",
    "# 100  500\n",
    "# 69   0\n",
    "# 101  2000\n",
    "# 85   500"
   ]
  },
  {
   "cell_type": "code",
   "execution_count": null,
   "metadata": {},
   "outputs": [],
   "source": [
    "t=int(input())\n",
    "for i in range(t):\n",
    "    x=int(input())\n",
    "    if x <=70:\n",
    "        print(0)\n",
    "    elif x >=70 and x <=100:\n",
    "        print(500)\n",
    "    else:\n",
    "        print(2000)"
   ]
  }
 ],
 "metadata": {
  "language_info": {
   "name": "python"
  }
 },
 "nbformat": 4,
 "nbformat_minor": 2
}
