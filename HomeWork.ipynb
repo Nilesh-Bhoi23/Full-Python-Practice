{
 "cells": [
  {
   "cell_type": "code",
   "execution_count": 2,
   "id": "dc48f470-7f28-486a-86c3-7b4776791f7c",
   "metadata": {},
   "outputs": [],
   "source": [
    "# H.W.\n",
    "# write all string related function and their use cases"
   ]
  },
  {
   "cell_type": "code",
   "execution_count": null,
   "id": "98806f7b-dbc0-4ecf-95ba-d3813d5f5c30",
   "metadata": {},
   "outputs": [],
   "source": [
    "# 1) Length/Size:\n",
    "# Use Case: To get the number of characters in a string.\n",
    "str = \"Nilesh bhoi\"\n",
    "length = len(str)\n",
    "print(length)  # Output: 11"
   ]
  },
  {
   "cell_type": "code",
   "execution_count": 3,
   "id": "e584e21f-fb64-4262-84bd-e2f1b4507f55",
   "metadata": {},
   "outputs": [
    {
     "name": "stdout",
     "output_type": "stream",
     "text": [
      "Nilesh, Bhoi\n"
     ]
    }
   ],
   "source": [
    "# 2)Concatenation:\n",
    "#Function: + operator\n",
    "#Use Case: To combine two strings into one.\n",
    "\n",
    "str1 = \"Nilesh\"\n",
    "str2 = \"Bhoi\"\n",
    "result = str1 + \", \" + str2\n",
    "print(result)  # Output: Nilesh, Bhoi"
   ]
  },
  {
   "cell_type": "code",
   "execution_count": 4,
   "id": "77886cec-1f36-4824-811a-95074208c901",
   "metadata": {},
   "outputs": [
    {
     "name": "stdout",
     "output_type": "stream",
     "text": [
      "Bhoi\n"
     ]
    }
   ],
   "source": [
    "# 3) Substring:\n",
    "# use Case : to extra a porting of a string.\n",
    "\n",
    "str = \"Nilesh,Bhoi\"\n",
    "substr = str[7:12]\n",
    "print(substr) # Output: Bhoi"
   ]
  },
  {
   "cell_type": "code",
   "execution_count": 5,
   "id": "f4311c9c-32bd-415b-ab9b-b497c2589510",
   "metadata": {},
   "outputs": [
    {
     "name": "stdout",
     "output_type": "stream",
     "text": [
      "8\n"
     ]
    }
   ],
   "source": [
    "# 4) index of Substring :\n",
    "# Function: 'str.find(substring)'\n",
    "# Use Case: To find the position of a stirng whithin a string.\n",
    "\n",
    "str = \"Nilesh, Bhoi\"\n",
    "index = str.find(\"Bhoi\")\n",
    "print(index) # Output 8"
   ]
  },
  {
   "cell_type": "code",
   "execution_count": 7,
   "id": "551c2e4d-f024-4ffb-b60a-ea25356e00ee",
   "metadata": {},
   "outputs": [
    {
     "name": "stdout",
     "output_type": "stream",
     "text": [
      "Nilesh Universe\n"
     ]
    }
   ],
   "source": [
    "# 5)Replace:\n",
    "# Function: str.replace(old, new)\n",
    "# Use Case: To replace occurrences of a substring with another substring.\n",
    "\n",
    "str = \"Nilesh Bhoi\"\n",
    "new_str = str.replace(\"Bhoi\", \"Universe\")\n",
    "print(new_str)  # Output: Nilesh, Universe!"
   ]
  },
  {
   "cell_type": "code",
   "execution_count": 9,
   "id": "9acbbf87-b026-4f11-929b-841208199095",
   "metadata": {},
   "outputs": [
    {
     "name": "stdout",
     "output_type": "stream",
     "text": [
      "NILESH, BHOI\n",
      "nilesh, bhoi\n"
     ]
    }
   ],
   "source": [
    "# 6)Uppercase/Lowercase:\n",
    "# Function: str.upper() and str.lower()\n",
    "# Use Case: To convert a string to uppercase or lowercase.\n",
    "\n",
    "str = \"Nilesh, Bhoi\"\n",
    "upper_str = str.upper()\n",
    "lower_str = str.lower()\n",
    "print(upper_str)  # Output: NILESH, BHOI\n",
    "print(lower_str)  # Output: nilesh, bhoi\n"
   ]
  },
  {
   "cell_type": "code",
   "execution_count": 13,
   "id": "23bbbc99-9939-467a-b1d2-62e272a7c35f",
   "metadata": {},
   "outputs": [
    {
     "name": "stdout",
     "output_type": "stream",
     "text": [
      "Nilesh Bhoi\n"
     ]
    }
   ],
   "source": [
    "# 7)Trim/Strip:\n",
    "#Function: str.strip()\n",
    "#Use Case: To remove leading and trailing whitespaces from a string.\n",
    "\n",
    "str = \"   Nilesh Bhoi   \"\n",
    "trimmed_str = str.strip()\n",
    "print(trimmed_str)  # Output: Nilesh Bhoi\n"
   ]
  },
  {
   "cell_type": "code",
   "execution_count": 14,
   "id": "5e6e2284-1767-4b76-a6cc-4f33ce8c65b2",
   "metadata": {},
   "outputs": [
    {
     "name": "stdout",
     "output_type": "stream",
     "text": [
      "3\n"
     ]
    }
   ],
   "source": [
    "# 8)Count Substring Occurrences:\n",
    "# Function: str.count(substring)\n",
    "# Use Case: To count the number of occurrences of a substring in a string.\n",
    "\n",
    "str = \"Hello, Hello, Hello, World!\"\n",
    "count = str.count(\"Hello\")\n",
    "print(count)  # Output: 3"
   ]
  }
 ],
 "metadata": {
  "kernelspec": {
   "display_name": "Python 3 (ipykernel)",
   "language": "python",
   "name": "python3"
  },
  "language_info": {
   "codemirror_mode": {
    "name": "ipython",
    "version": 3
   },
   "file_extension": ".py",
   "mimetype": "text/x-python",
   "name": "python",
   "nbconvert_exporter": "python",
   "pygments_lexer": "ipython3",
   "version": "3.12.1"
  }
 },
 "nbformat": 4,
 "nbformat_minor": 5
}
