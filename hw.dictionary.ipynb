{
 "cells": [
  {
   "cell_type": "code",
   "execution_count": null,
   "id": "b8a2e6ed-77b6-4496-83f3-540caedc6f10",
   "metadata": {},
   "outputs": [],
   "source": [
    "# Python dictionaries are versatile data structures that store key-value pairs. Here are some commonly used dictionary functions along with their use cases:\n"
   ]
  },
  {
   "cell_type": "code",
   "execution_count": 1,
   "id": "22ec7e90-946a-46bf-8fd2-8afd3599f58e",
   "metadata": {},
   "outputs": [
    {
     "name": "stdout",
     "output_type": "stream",
     "text": [
      "3\n"
     ]
    }
   ],
   "source": [
    "# 1) len(dictionary): Returns the number of key-value pairs in the dictionary.\n",
    "my_dict = {'a': 1, 'b': 2, 'c': 3}\n",
    "print(len(my_dict))  # Output: 3"
   ]
  },
  {
   "cell_type": "code",
   "execution_count": 2,
   "id": "bd2bfbd9-d4fb-4638-8729-eb7b1fbedf1f",
   "metadata": {},
   "outputs": [
    {
     "name": "stdout",
     "output_type": "stream",
     "text": [
      "dict_keys(['a', 'b', 'c'])\n"
     ]
    }
   ],
   "source": [
    "# 2)keys(): Returns a view of all keys in the dictionary.\n",
    "my_dict = {'a': 1, 'b': 2, 'c': 3}\n",
    "key_view = my_dict.keys()\n",
    "print(key_view)  # Output: dict_keys(['a', 'b', 'c'])"
   ]
  },
  {
   "cell_type": "code",
   "execution_count": 3,
   "id": "deac731e-915d-4f52-828f-1c6a72f9bd42",
   "metadata": {},
   "outputs": [
    {
     "name": "stdout",
     "output_type": "stream",
     "text": [
      "dict_values([1, 2, 3])\n"
     ]
    }
   ],
   "source": [
    "# 3) values(): Returns a view of all values in the dictionary:\n",
    "my_dict = {'a': 1, 'b': 2, 'c': 3}\n",
    "value_view = my_dict.values()\n",
    "print(value_view)  # Output: dict_values([1, 2, 3])"
   ]
  },
  {
   "cell_type": "code",
   "execution_count": 4,
   "id": "cdb4cf58-5d77-44d5-bc28-3bea9109bc27",
   "metadata": {},
   "outputs": [
    {
     "name": "stdout",
     "output_type": "stream",
     "text": [
      "dict_items([('a', 1), ('b', 2), ('c', 3)])\n"
     ]
    }
   ],
   "source": [
    "# 4) items(): Returns a view of all key-value pairs in the dictionary.\n",
    "my_dict = {'a': 1, 'b': 2, 'c': 3}\n",
    "items_view = my_dict.items()\n",
    "print(items_view)  # Output: dict_items([('a', 1), ('b', 2), ('c', 3)])"
   ]
  },
  {
   "cell_type": "code",
   "execution_count": 5,
   "id": "818eeead-3579-40f7-b8f6-3e8030ed6169",
   "metadata": {},
   "outputs": [
    {
     "name": "stdout",
     "output_type": "stream",
     "text": [
      "2\n"
     ]
    }
   ],
   "source": [
    "# 5) get(key, default): Returns the value for the specified key, or a default value if the key is not present.\n",
    "my_dict = {'a': 1, 'b': 2, 'c': 3}\n",
    "value = my_dict.get('b', 0)\n",
    "print(value)  # Output: 2"
   ]
  },
  {
   "cell_type": "code",
   "execution_count": 6,
   "id": "4197ebd0-7fb6-4071-a8c9-6945b0762545",
   "metadata": {},
   "outputs": [
    {
     "name": "stdout",
     "output_type": "stream",
     "text": [
      "2\n"
     ]
    }
   ],
   "source": [
    "# 6) pop(key, default): Removes the key and returns its value, or returns the default value if the key is not present.\n",
    "my_dict = {'a': 1, 'b': 2, 'c': 3}\n",
    "popped_value = my_dict.pop('b', 0)\n",
    "print(popped_value)  # Output: 2"
   ]
  },
  {
   "cell_type": "code",
   "execution_count": 7,
   "id": "012dd97b-ff64-40e1-b747-f84fed7313f3",
   "metadata": {},
   "outputs": [
    {
     "name": "stdout",
     "output_type": "stream",
     "text": [
      "('c', 3)\n"
     ]
    }
   ],
   "source": [
    "# 7) popitem(): Removes and returns the last key-value pair as a tuple.\n",
    "my_dict = {'a': 1, 'b': 2, 'c': 3}\n",
    "popped_item = my_dict.popitem()\n",
    "print(popped_item)  # Output: ('c', 3)"
   ]
  },
  {
   "cell_type": "code",
   "execution_count": 8,
   "id": "31651376-cbef-48bf-9c14-1dd1c4d35541",
   "metadata": {},
   "outputs": [
    {
     "name": "stdout",
     "output_type": "stream",
     "text": [
      "{'a': 1, 'b': 3, 'c': 4}\n"
     ]
    }
   ],
   "source": [
    "# 8) update(dictionary): Updates the dictionary with key-value pairs from another dictionary.\n",
    "my_dict = {'a': 1, 'b': 2}\n",
    "other_dict = {'b': 3, 'c': 4}\n",
    "my_dict.update(other_dict)\n",
    "print(my_dict)  # Output: {'a': 1, 'b': 3, 'c': 4}"
   ]
  },
  {
   "cell_type": "code",
   "execution_count": 9,
   "id": "fcd5e4f1-4b63-4248-bca3-e441214172e7",
   "metadata": {},
   "outputs": [
    {
     "name": "stdout",
     "output_type": "stream",
     "text": [
      "{}\n"
     ]
    }
   ],
   "source": [
    "# 9) clear(): Removes all items from the dictionary.\n",
    "my_dict = {'a': 1, 'b': 2, 'c': 3}\n",
    "my_dict.clear()\n",
    "print(my_dict)  # Output: {}"
   ]
  },
  {
   "cell_type": "code",
   "execution_count": 11,
   "id": "e5973393-29d9-4b34-bdd3-b68678e0c88b",
   "metadata": {},
   "outputs": [
    {
     "name": "stdout",
     "output_type": "stream",
     "text": [
      "{'a': 1, 'b': 2}\n"
     ]
    }
   ],
   "source": [
    "# 10) copy(): Creates a shallow copy of the dictionary.\n",
    "original_dict = {'a': 1, 'b': 2}\n",
    "copied_dict = original_dict.copy()\n",
    "print(copied_dict)"
   ]
  }
 ],
 "metadata": {
  "kernelspec": {
   "display_name": "Python 3 (ipykernel)",
   "language": "python",
   "name": "python3"
  },
  "language_info": {
   "codemirror_mode": {
    "name": "ipython",
    "version": 3
   },
   "file_extension": ".py",
   "mimetype": "text/x-python",
   "name": "python",
   "nbconvert_exporter": "python",
   "pygments_lexer": "ipython3",
   "version": "3.12.1"
  }
 },
 "nbformat": 4,
 "nbformat_minor": 5
}
