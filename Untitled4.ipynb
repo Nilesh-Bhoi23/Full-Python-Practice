{
 "cells": [
  {
   "cell_type": "code",
   "execution_count": null,
   "id": "3780c338-6523-432e-9306-85bd66954905",
   "metadata": {},
   "outputs": [],
   "source": [
    "# Tuples in Python are similar to lists but are immutable, meaning their elements cannot be modified after the tuple is created. Here are some commonly used tuple functions along with their use cases:"
   ]
  },
  {
   "cell_type": "code",
   "execution_count": 3,
   "id": "a4bf7148-4a0a-4832-b7c1-4ca0b8fa14b0",
   "metadata": {},
   "outputs": [
    {
     "name": "stdout",
     "output_type": "stream",
     "text": [
      "5\n"
     ]
    }
   ],
   "source": [
    "# 1) len(tuple): Returns the number of elements in the tuple.\n",
    "my_tuple = (1, 2, 3, 4, 5)\n",
    "print(len(my_tuple))  # Output: 5"
   ]
  },
  {
   "cell_type": "code",
   "execution_count": 4,
   "id": "6e26bdb5-fdfe-4788-8fb0-6af524e59952",
   "metadata": {},
   "outputs": [
    {
     "name": "stdout",
     "output_type": "stream",
     "text": [
      "3\n"
     ]
    }
   ],
   "source": [
    "# 2) count(element): Returns the number of occurrences of the specified element in the tuple.\n",
    "my_tuple = (1, 2, 3, 2, 4, 2)\n",
    "count = my_tuple.count(2)\n",
    "print(count)  # Output: 3"
   ]
  },
  {
   "cell_type": "code",
   "execution_count": 5,
   "id": "8834a14f-73ec-4f10-ba97-4480e9109c74",
   "metadata": {},
   "outputs": [
    {
     "name": "stdout",
     "output_type": "stream",
     "text": [
      "1\n"
     ]
    }
   ],
   "source": [
    "# 3) index(element): Returns the index of the first occurrence of the specified element.\n",
    "my_tuple = (1, 2, 3, 2, 4, 2)\n",
    "index = my_tuple.index(2)\n",
    "print(index)  # Output: 1"
   ]
  },
  {
   "cell_type": "code",
   "execution_count": null,
   "id": "284320fe-1038-4bb2-9f3c-9bd10a48ba04",
   "metadata": {},
   "outputs": [],
   "source": []
  }
 ],
 "metadata": {
  "kernelspec": {
   "display_name": "Python 3 (ipykernel)",
   "language": "python",
   "name": "python3"
  },
  "language_info": {
   "codemirror_mode": {
    "name": "ipython",
    "version": 3
   },
   "file_extension": ".py",
   "mimetype": "text/x-python",
   "name": "python",
   "nbconvert_exporter": "python",
   "pygments_lexer": "ipython3",
   "version": "3.12.1"
  }
 },
 "nbformat": 4,
 "nbformat_minor": 5
}
