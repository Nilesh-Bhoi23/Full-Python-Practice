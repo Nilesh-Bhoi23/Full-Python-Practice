{
 "cells": [
  {
   "cell_type": "code",
   "execution_count": null,
   "metadata": {},
   "outputs": [],
   "source": [
    "# Tour of King\n",
    "# King loves to go on tours with his friends.\n",
    "\n",
    "# King has \n",
    "# �\n",
    "# N cars that can seat \n",
    "# 5\n",
    "# 5 people each and \n",
    "# �\n",
    "# M cars that can seat \n",
    "# 7\n",
    "# 7 people each. Determine the maximum number of people that can travel together in these cars.\n",
    "\n",
    "# Input Format\n",
    "# The first line of input contains a single integer \n",
    "# �\n",
    "# T, the number of test cases.\n",
    "# The first and only line of each test case contains two space-separated integers \n",
    "# �\n",
    "# N and \n",
    "# �\n",
    "# M — the number of \n",
    "# 5\n",
    "# 5-seaters and \n",
    "# 7\n",
    "# 7-seaters, respectively.\n",
    "# Output Format\n",
    "# For each test case, output on a new line the maximum number of people that can travel together.\n",
    "\n",
    "# Output\n",
    "# 4\n",
    "# 4 8     76\n",
    "# 2 13   101\n",
    "# 14 5   105\n",
    "# 8 8    96\n",
    "\n"
   ]
  },
  {
   "cell_type": "code",
   "execution_count": null,
   "metadata": {},
   "outputs": [],
   "source": [
    "t = int(input())\n",
    "for i in range(t):\n",
    "    n,m = map(int,input().split())\n",
    "    print((n*5)+(m*7))"
   ]
  }
 ],
 "metadata": {
  "language_info": {
   "name": "python"
  }
 },
 "nbformat": 4,
 "nbformat_minor": 2
}
