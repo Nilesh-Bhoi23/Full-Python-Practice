{
 "cells": [
  {
   "cell_type": "code",
   "execution_count": null,
   "id": "31af778e-12be-4af6-9c95-e66e45cef8b3",
   "metadata": {},
   "outputs": [],
   "source": [
    "# function / Advance coding\n",
    "# 1) in-build function \n",
    "# eg- type() , range(),input() etc.\n",
    "# 2) user difined functions \n",
    "# area(),additionj(),sub()..etc\n",
    "\n",
    "Q) seprate the positive and negative number from given list"
   ]
  },
  {
   "cell_type": "code",
   "execution_count": 4,
   "id": "36debc8a-f4a6-45eb-a827-a8d7220bc4a7",
   "metadata": {},
   "outputs": [
    {
     "name": "stdout",
     "output_type": "stream",
     "text": [
      "[2, 8]\n",
      "[-1, 0, -2, -8]\n"
     ]
    }
   ],
   "source": [
    "my_list = [2,8,-1,0,-2,-8]\n",
    "pos_list = []\n",
    "neg_list = []\n",
    "\n",
    "for value in my_list:\n",
    "    if value > 0:\n",
    "        pos_list.append(value)\n",
    "    else: \n",
    "        neg_list.append(value)\n",
    "print(pos_list)\n",
    "print(neg_list)"
   ]
  },
  {
   "cell_type": "code",
   "execution_count": 4,
   "id": "c23b888a-e2d8-4e6a-9e84-539edf9e5245",
   "metadata": {},
   "outputs": [
    {
     "name": "stdin",
     "output_type": "stream",
     "text": [
      "enter items 6\n"
     ]
    },
    {
     "name": "stdout",
     "output_type": "stream",
     "text": [
      "60\n"
     ]
    }
   ],
   "source": [
    "number_item = int(input('enter items'))\n",
    "price =10\n",
    "price=number_item*10\n",
    "print(price)"
   ]
  },
  {
   "cell_type": "code",
   "execution_count": 2,
   "id": "d31b24a5-d189-4fa7-8b0a-7ba82e1cb0c6",
   "metadata": {},
   "outputs": [
    {
     "name": "stdin",
     "output_type": "stream",
     "text": [
      "[] 2\n",
      "enter oredered item: 'banana'\n",
      "enter price 30\n",
      "enter oredered item: hhhhh\n",
      "enter price 40\n"
     ]
    }
   ],
   "source": [
    "my_list = []\n",
    "num_item = int(input(my_list))\n",
    "my_price =[]\n",
    "for i in range(num_item):\n",
    "    order = input('enter oredered item:') \n",
    "    my_list.append(order)\n",
    "    price = int(input('enter price'))\n",
    "    my_price.append(price)"
   ]
  }
 ],
 "metadata": {
  "kernelspec": {
   "display_name": "Python 3 (ipykernel)",
   "language": "python",
   "name": "python3"
  },
  "language_info": {
   "codemirror_mode": {
    "name": "ipython",
    "version": 3
   },
   "file_extension": ".py",
   "mimetype": "text/x-python",
   "name": "python",
   "nbconvert_exporter": "python",
   "pygments_lexer": "ipython3",
   "version": "3.12.1"
  }
 },
 "nbformat": 4,
 "nbformat_minor": 5
}
