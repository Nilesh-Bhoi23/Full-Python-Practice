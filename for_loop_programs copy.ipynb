{
 "cells": [
  {
   "cell_type": "markdown",
   "id": "9d057036-c096-4ddb-babc-0d0505461695",
   "metadata": {},
   "source": [
    "### Print numbers from 1 to 5:\n",
    "\n",
    "\r\n"
   ]
  },
  {
   "cell_type": "code",
   "execution_count": 6,
   "id": "0a0c38b0-4f1a-4416-a471-093cca5a7190",
   "metadata": {
    "scrolled": true
   },
   "outputs": [
    {
     "name": "stdout",
     "output_type": "stream",
     "text": [
      "1\n",
      "2\n",
      "3\n",
      "4\n",
      "5\n"
     ]
    }
   ],
   "source": [
    "for i in range(1, 6):\n",
    "    print(i)"
   ]
  },
  {
   "cell_type": "markdown",
   "id": "85732f1c-dca4-44eb-928f-794152380a56",
   "metadata": {},
   "source": [
    "### Print even numbers from 2 to 10:"
   ]
  },
  {
   "cell_type": "code",
   "execution_count": 2,
   "id": "f391c00f-6637-4b85-87b1-75526dfdceaf",
   "metadata": {
    "scrolled": true
   },
   "outputs": [
    {
     "name": "stdout",
     "output_type": "stream",
     "text": [
      "2\n",
      "4\n",
      "6\n",
      "8\n",
      "10\n"
     ]
    }
   ],
   "source": [
    "for i in range(2, 11, 2):\n",
    "    print(i)\n"
   ]
  },
  {
   "cell_type": "markdown",
   "id": "804a6f60-e726-4b0e-b3ae-eb2d27e92d86",
   "metadata": {},
   "source": [
    "### Calculate the sum of numbers from 1 to 10:"
   ]
  },
  {
   "cell_type": "code",
   "execution_count": 3,
   "id": "78d130a8-8cfe-442a-862f-384280a16246",
   "metadata": {},
   "outputs": [
    {
     "name": "stdout",
     "output_type": "stream",
     "text": [
      "Sum: 55\n"
     ]
    }
   ],
   "source": [
    "sum_result = 0\n",
    "for i in range(1, 11):\n",
    "    sum_result += i\n",
    "print(\"Sum:\", sum_result)\n"
   ]
  },
  {
   "cell_type": "markdown",
   "id": "93f945e6-a16c-46fa-92cb-279b03c1383a",
   "metadata": {},
   "source": [
    "### Print elements of a list:"
   ]
  },
  {
   "cell_type": "code",
   "execution_count": 5,
   "id": "255910ad-bdc6-4521-9a2d-c0eed2000185",
   "metadata": {},
   "outputs": [
    {
     "name": "stdout",
     "output_type": "stream",
     "text": [
      "10\n",
      "20\n",
      "30\n",
      "40\n",
      "50\n"
     ]
    }
   ],
   "source": [
    "my_list = [10, 20, 30, 40, 50]\n",
    "for item in my_list:\n",
    "    print(item)\n"
   ]
  },
  {
   "cell_type": "markdown",
   "id": "20b98685-44a0-4bc4-baed-16450c90f865",
   "metadata": {},
   "source": [
    "### Print characters of a string:"
   ]
  },
  {
   "cell_type": "code",
   "execution_count": 7,
   "id": "676ff934-4822-4f98-9c6c-beaac87fd1b9",
   "metadata": {},
   "outputs": [
    {
     "name": "stdout",
     "output_type": "stream",
     "text": [
      "H\n",
      "e\n",
      "l\n",
      "l\n",
      "o\n"
     ]
    }
   ],
   "source": [
    "my_string = \"Hello\"\n",
    "for char in my_string:\n",
    "    print(char)\n"
   ]
  },
  {
   "cell_type": "markdown",
   "id": "8300c319-5a0a-4efe-8777-38f6b9eba271",
   "metadata": {},
   "source": [
    "### Print multiplication table of 7:"
   ]
  },
  {
   "cell_type": "code",
   "execution_count": 8,
   "id": "6c0a100f-5866-417a-ac85-1ee939cb41af",
   "metadata": {},
   "outputs": [
    {
     "name": "stdout",
     "output_type": "stream",
     "text": [
      "7 x 1 = 7\n",
      "7 x 2 = 14\n",
      "7 x 3 = 21\n",
      "7 x 4 = 28\n",
      "7 x 5 = 35\n",
      "7 x 6 = 42\n",
      "7 x 7 = 49\n",
      "7 x 8 = 56\n",
      "7 x 9 = 63\n",
      "7 x 10 = 70\n"
     ]
    }
   ],
   "source": [
    "num = 7\n",
    "for i in range(1, 11):\n",
    "    print(num, \"x\", i, \"=\", num * i)\n"
   ]
  },
  {
   "cell_type": "markdown",
   "id": "999ad29c-63bd-42d0-bc06-ab0b96bb00fd",
   "metadata": {},
   "source": [
    "### Iterate over a dictionary:"
   ]
  },
  {
   "cell_type": "code",
   "execution_count": 9,
   "id": "df713068-86f6-431b-9c1b-6c14e10b8553",
   "metadata": {},
   "outputs": [
    {
     "name": "stdout",
     "output_type": "stream",
     "text": [
      "a -> 1\n",
      "b -> 2\n",
      "c -> 3\n"
     ]
    }
   ],
   "source": [
    "my_dict = {'a': 1, 'b': 2, 'c': 3}\n",
    "for key, value in my_dict.items():\n",
    "    print(key, \"->\", value)\n"
   ]
  },
  {
   "cell_type": "markdown",
   "id": "6c97278c-16c7-4bb7-b921-2ed63a060e4f",
   "metadata": {},
   "source": [
    "### Nested loops to create a pattern:"
   ]
  },
  {
   "cell_type": "code",
   "execution_count": 10,
   "id": "f95ca3a4-d504-47cc-8332-6c690be2ff27",
   "metadata": {},
   "outputs": [
    {
     "name": "stdout",
     "output_type": "stream",
     "text": [
      "* \n",
      "* * \n",
      "* * * \n",
      "* * * * \n",
      "* * * * * \n"
     ]
    }
   ],
   "source": [
    "for i in range(5):\n",
    "    for j in range(i + 1):\n",
    "        print(\"*\", end=\" \")\n",
    "    print()\n"
   ]
  },
  {
   "cell_type": "code",
   "execution_count": 26,
   "id": "d9bebe37-4492-427e-9ac0-6d3a3560db02",
   "metadata": {},
   "outputs": [
    {
     "name": "stdout",
     "output_type": "stream",
     "text": [
      "idx= 0 = 11\n",
      "idx= 1 = 2\n",
      "idx= 2 = 223\n",
      "idx= 3 = 44\n",
      "idx= 4 = 55\n",
      "idx= 5 = 66\n"
     ]
    }
   ],
   "source": [
    "m_list = [11,2,223,44,55,66]\n",
    "for i in m_list:\n",
    "    idx = m_list.index(i)\n",
    "    print('idx=',idx,'=',i)"
   ]
  },
  {
   "cell_type": "code",
   "execution_count": null,
   "id": "e730a9d4-5bc8-48f0-b352-b5297ea2c5bb",
   "metadata": {},
   "outputs": [],
   "source": []
  }
 ],
 "metadata": {
  "kernelspec": {
   "display_name": "Python 3 (ipykernel)",
   "language": "python",
   "name": "python3"
  },
  "language_info": {
   "codemirror_mode": {
    "name": "ipython",
    "version": 3
   },
   "file_extension": ".py",
   "mimetype": "text/x-python",
   "name": "python",
   "nbconvert_exporter": "python",
   "pygments_lexer": "ipython3",
   "version": "3.12.1"
  }
 },
 "nbformat": 4,
 "nbformat_minor": 5
}
