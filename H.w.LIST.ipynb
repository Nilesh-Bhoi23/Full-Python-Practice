{
 "cells": [
  {
   "cell_type": "code",
   "execution_count": 2,
   "id": "25c50705-2a21-4d80-a0ff-2ae48d5f4208",
   "metadata": {},
   "outputs": [
    {
     "name": "stdout",
     "output_type": "stream",
     "text": [
      "5\n"
     ]
    }
   ],
   "source": [
    "# 1)len(list): Returns the number of elements in the list.\n",
    "my_list = [1, 2, 3, 4, 5]\n",
    "print(len(my_list))  # Output: 5"
   ]
  },
  {
   "cell_type": "code",
   "execution_count": 3,
   "id": "30b40d22-7cc0-47f3-9193-ade95e8e3e74",
   "metadata": {},
   "outputs": [
    {
     "name": "stdout",
     "output_type": "stream",
     "text": [
      "[1, 2, 3, 4]\n"
     ]
    }
   ],
   "source": [
    "# 2) append(element): Adds an element to the end of the list. \n",
    "my_list = [1, 2, 3]\n",
    "my_list.append(4)\n",
    "print(my_list)  # Output: [1, 2, 3, 4]"
   ]
  },
  {
   "cell_type": "code",
   "execution_count": 4,
   "id": "2f34fbf1-c8dd-4dcc-8628-c29e8ea54da9",
   "metadata": {},
   "outputs": [
    {
     "name": "stdout",
     "output_type": "stream",
     "text": [
      "[1, 2, 3, 4, 5]\n"
     ]
    }
   ],
   "source": [
    "# 3) extend(iterable): Extends the list by appending elements from an iterable.\n",
    "my_list = [1, 2, 3]\n",
    "my_list.extend([4, 5])\n",
    "print(my_list)  # Output: [1, 2, 3, 4, 5]"
   ]
  },
  {
   "cell_type": "code",
   "execution_count": 5,
   "id": "ec2d09a1-14f3-4ce7-9866-e28f6ee182b1",
   "metadata": {},
   "outputs": [
    {
     "name": "stdout",
     "output_type": "stream",
     "text": [
      "[1, 4, 2, 3]\n"
     ]
    }
   ],
   "source": [
    "# 4)insert(index, element): Inserts an element at a specified index.\n",
    "my_list = [1, 2, 3]\n",
    "my_list.insert(1, 4)\n",
    "print(my_list)  # Output: [1, 4, 2, 3]"
   ]
  },
  {
   "cell_type": "code",
   "execution_count": 9,
   "id": "9d4a580a-c0d5-4f23-973c-47c9899ea915",
   "metadata": {},
   "outputs": [
    {
     "name": "stdout",
     "output_type": "stream",
     "text": [
      "[1, 2, 3]\n"
     ]
    }
   ],
   "source": [
    "# 5)copy() or list(): Creates a shallow copy of the list.\n",
    "original_list = [1, 2, 3]\n",
    "copied_list = original_list.copy()\n",
    "print(copied_list)\n",
    "# or\n",
    "# copied_list = list(original_list)"
   ]
  },
  {
   "cell_type": "code",
   "execution_count": 10,
   "id": "85351456-49ea-4cce-8817-999c3ab60563",
   "metadata": {},
   "outputs": [
    {
     "name": "stdout",
     "output_type": "stream",
     "text": [
      "[4, 3, 2, 1]\n"
     ]
    }
   ],
   "source": [
    "# 6)reverse(): Reverses the elements of the list (in-place).\n",
    "my_list = [1, 2, 3, 4]\n",
    "my_list.reverse()\n",
    "print(my_list)  # Output: [4, 3, 2, 1]"
   ]
  },
  {
   "cell_type": "code",
   "execution_count": 11,
   "id": "a0164f92-a385-4e7a-b46b-8debfdb0147d",
   "metadata": {},
   "outputs": [
    {
     "name": "stdout",
     "output_type": "stream",
     "text": [
      "[1, 1, 2, 3, 4, 5, 9]\n"
     ]
    }
   ],
   "source": [
    "# 7)sort(): Sorts the elements of the list in ascending order (in-place).\n",
    "my_list = [3, 1, 4, 1, 5, 9, 2]\n",
    "my_list.sort()\n",
    "print(my_list)  # Output: [1, 1, 2, 3, 4, 5, 9]"
   ]
  },
  {
   "cell_type": "code",
   "execution_count": 12,
   "id": "b4f3a123-017d-4f6b-84a2-3d4d97c3b180",
   "metadata": {},
   "outputs": [
    {
     "name": "stdout",
     "output_type": "stream",
     "text": [
      "2\n"
     ]
    }
   ],
   "source": [
    "# 8)count(element): Returns the number of occurrences of the specified element.\n",
    "my_list = [1, 2, 3, 2]\n",
    "count = my_list.count(2)\n",
    "print(count)  # Output: 2"
   ]
  },
  {
   "cell_type": "code",
   "execution_count": 13,
   "id": "e9320b6b-a37d-46af-9e2c-6782b22bc142",
   "metadata": {},
   "outputs": [
    {
     "name": "stdout",
     "output_type": "stream",
     "text": [
      "1\n"
     ]
    }
   ],
   "source": [
    "# 9)index(element): Returns the index of the first occurrence of the specified element.\n",
    "my_list = [1, 2, 3, 2]\n",
    "index = my_list.index(2)\n",
    "print(index)  # Output: 1"
   ]
  },
  {
   "cell_type": "code",
   "execution_count": 14,
   "id": "f815481e-4f43-430a-b7b7-f3fe2bca712b",
   "metadata": {},
   "outputs": [
    {
     "name": "stdout",
     "output_type": "stream",
     "text": [
      "[1, 3]\n"
     ]
    }
   ],
   "source": [
    "# 10)pop(index): Removes and returns the element at the specified index (default is the last element).\n",
    "my_list = [1, 2, 3]\n",
    "popped_element = my_list.pop(1)\n",
    "print(my_list)  # Output: [1, 3], popped_element: 2"
   ]
  },
  {
   "cell_type": "code",
   "execution_count": 15,
   "id": "fcfd5a21-595f-4772-ac48-6f2db2e370e4",
   "metadata": {},
   "outputs": [
    {
     "name": "stdout",
     "output_type": "stream",
     "text": [
      "[1, 3, 2]\n"
     ]
    }
   ],
   "source": [
    "# 11)remove(element): Removes the first occurrence of the specified element.\n",
    "my_list = [1, 2, 3, 2]\n",
    "my_list.remove(2)\n",
    "print(my_list)  # Output: [1, 3, 2]"
   ]
  }
 ],
 "metadata": {
  "kernelspec": {
   "display_name": "Python 3 (ipykernel)",
   "language": "python",
   "name": "python3"
  },
  "language_info": {
   "codemirror_mode": {
    "name": "ipython",
    "version": 3
   },
   "file_extension": ".py",
   "mimetype": "text/x-python",
   "name": "python",
   "nbconvert_exporter": "python",
   "pygments_lexer": "ipython3",
   "version": "3.12.1"
  }
 },
 "nbformat": 4,
 "nbformat_minor": 5
}
