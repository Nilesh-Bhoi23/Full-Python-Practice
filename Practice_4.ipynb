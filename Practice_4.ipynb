{
 "cells": [
  {
   "cell_type": "code",
   "execution_count": null,
   "metadata": {},
   "outputs": [],
   "source": [
    "# Tax in Chefland\n",
    "# In Chefland, a tax of rupees \n",
    "# 10\n",
    "# 10 is deducted if the total income is strictly greater than rupees \n",
    "# 100\n",
    "# 100.\n",
    "\n",
    "# Given that total income is \n",
    "# �\n",
    "# X rupees, find out how much money you get.\n",
    "\n",
    "# Input Format\n",
    "# The first line of input will contain a single integer \n",
    "# �\n",
    "# T, denoting the number of test cases.\n",
    "# The first and only line of each test case contains a single integer \n",
    "# �\n",
    "# X — your total income.\n",
    "# Output Format\n",
    "# For each test case, output on a new line, the amount of money you get.\n",
    "\n",
    "\n",
    "# 5       5\n",
    "# 105     95\n",
    "# 101     91\n",
    "# 100     100"
   ]
  },
  {
   "cell_type": "code",
   "execution_count": null,
   "metadata": {},
   "outputs": [],
   "source": [
    "t = int(input())\n",
    "for i in range(t):\n",
    "    x = int(input())\n",
    "    if x <= 100:\n",
    "        print(x)\n",
    "    else:\n",
    "        print(x-10)\n",
    "        "
   ]
  }
 ],
 "metadata": {
  "language_info": {
   "name": "python"
  }
 },
 "nbformat": 4,
 "nbformat_minor": 2
}
