{
 "cells": [
  {
   "cell_type": "markdown",
   "id": "31b399bb-8c7d-45c6-8367-1894d7ee3697",
   "metadata": {},
   "source": [
    "###  Write function which takes list of number as input and seperate positive and negative number and return them in two seperate lists\n"
   ]
  },
  {
   "cell_type": "code",
   "execution_count": 9,
   "id": "8f05cb6c-a209-40cf-b043-fba9e9fd145d",
   "metadata": {},
   "outputs": [
    {
     "name": "stdout",
     "output_type": "stream",
     "text": [
      "Positive list : [11, 29, 65, 26]\n",
      "Negative number list : [-44, -33, -76, -64]\n"
     ]
    }
   ],
   "source": [
    "list1 = [11,29,65,-44,-33,26,-76,-64]\n",
    "pos_list = []\n",
    "neg_list = []\n",
    "def check_pos_neg(list1):\n",
    "    for value in list1:\n",
    "        if value > 0:\n",
    "            pos_list.append(value)\n",
    "        else:\n",
    "            neg_list.append(value)\n",
    "    return pos_list,neg_list\n",
    "pos_list1,neg_list1 = check_pos_neg(list1)\n",
    "print('Positive list :',pos_list1)\n",
    "print('Negative number list :',neg_list1)"
   ]
  },
  {
   "cell_type": "markdown",
   "id": "ec45c771-937a-4205-9e69-151213fb6093",
   "metadata": {},
   "source": [
    "### Write functions which takes your age as input and check your adult or not return True or False "
   ]
  },
  {
   "cell_type": "code",
   "execution_count": 14,
   "id": "c7f5aeed-fa8f-4c4f-8c7b-50e9d1eaf043",
   "metadata": {},
   "outputs": [
    {
     "data": {
      "text/plain": [
       "True"
      ]
     },
     "execution_count": 14,
     "metadata": {},
     "output_type": "execute_result"
    }
   ],
   "source": [
    "age = 20\n",
    "def check_adult(age):\n",
    "    if age >= 18:\n",
    "        return True\n",
    "    else:\n",
    "        return False\n",
    "age=check_adult(age)\n",
    "age"
   ]
  },
  {
   "cell_type": "markdown",
   "id": "d5a839e2-93a5-4bb5-bf54-6e2e81517a6c",
   "metadata": {},
   "source": [
    "###  Write function which takes input lists of persons ages and seperates adults and child agess"
   ]
  },
  {
   "cell_type": "code",
   "execution_count": 17,
   "id": "900f2a0e-b100-43dc-902c-d0d66438177d",
   "metadata": {},
   "outputs": [
    {
     "name": "stdout",
     "output_type": "stream",
     "text": [
      "adult : [22, 33, 54, 18]\n",
      "child : [11, 16, 14, 13]\n"
     ]
    }
   ],
   "source": [
    "ages = [22,11,33,16,54,18,14,13]\n",
    "adult_list = []\n",
    "child_list = []\n",
    "def sep_adult_child(ages):\n",
    "    for value in ages:\n",
    "        if value >= 18:\n",
    "            adult_list.append(value)\n",
    "        else:\n",
    "            child_list.append(value)\n",
    "    return adult_list,child_list\n",
    "adult_list,child_list = sep_adult_child(ages)\n",
    "print('adult :',adult_list)\n",
    "print('child :',child_list)"
   ]
  }
 ],
 "metadata": {
  "kernelspec": {
   "display_name": "Python 3 (ipykernel)",
   "language": "python",
   "name": "python3"
  },
  "language_info": {
   "codemirror_mode": {
    "name": "ipython",
    "version": 3
   },
   "file_extension": ".py",
   "mimetype": "text/x-python",
   "name": "python",
   "nbconvert_exporter": "python",
   "pygments_lexer": "ipython3",
   "version": "3.12.1"
  }
 },
 "nbformat": 4,
 "nbformat_minor": 5
}
