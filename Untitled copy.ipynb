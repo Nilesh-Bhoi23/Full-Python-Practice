{
 "cells": [
  {
   "cell_type": "markdown",
   "id": "ac0150f2-ee9b-448a-ad33-131f6d161705",
   "metadata": {},
   "source": [
    "# Loops"
   ]
  },
  {
   "cell_type": "code",
   "execution_count": null,
   "id": "6a0ea4b4-5ec1-4e02-a21b-49ae23f0a4dc",
   "metadata": {},
   "outputs": [],
   "source": [
    "# indiacats repeatation of group of statement to be executed till condition become true / false\n"
   ]
  },
  {
   "cell_type": "code",
   "execution_count": 2,
   "id": "f7be2963-f120-4a2e-bbe8-2935def6678e",
   "metadata": {},
   "outputs": [
    {
     "name": "stdout",
     "output_type": "stream",
     "text": [
      "0\n",
      "1\n",
      "2\n",
      "3\n",
      "4\n",
      "5\n",
      "6\n",
      "7\n",
      "8\n",
      "9\n"
     ]
    }
   ],
   "source": [
    "for i in range(10):\n",
    "    print(i)"
   ]
  },
  {
   "cell_type": "code",
   "execution_count": 3,
   "id": "0169529e-e4cc-446e-b989-31d7c0c72234",
   "metadata": {},
   "outputs": [
    {
     "name": "stdout",
     "output_type": "stream",
     "text": [
      "0\n",
      "2\n",
      "4\n",
      "6\n",
      "8\n",
      "10\n",
      "12\n",
      "14\n",
      "16\n",
      "18\n",
      "20\n"
     ]
    }
   ],
   "source": [
    "# table of 2 \n",
    "for i in range(11):\n",
    "    print(i*2)"
   ]
  },
  {
   "cell_type": "code",
   "execution_count": null,
   "id": "4156e2a2-abb6-45e0-97ef-d48f525c35cd",
   "metadata": {},
   "outputs": [],
   "source": [
    "# syntax of range\n",
    "# "
   ]
  },
  {
   "cell_type": "code",
   "execution_count": 4,
   "id": "9cc9cf4d-012e-435b-824a-81e88e1b7c66",
   "metadata": {},
   "outputs": [
    {
     "name": "stdout",
     "output_type": "stream",
     "text": [
      "10\n",
      "9\n",
      "8\n",
      "7\n",
      "6\n",
      "5\n",
      "4\n",
      "3\n",
      "2\n",
      "1\n",
      "0\n",
      "-1\n",
      "-2\n",
      "-3\n",
      "-4\n",
      "-5\n"
     ]
    }
   ],
   "source": [
    "for i in range(10, -6,-1):\n",
    "    print(i)"
   ]
  },
  {
   "cell_type": "markdown",
   "id": "9b13f7cc-9eef-4d54-b42e-55ccb97d10f0",
   "metadata": {},
   "source": [
    "# While loop"
   ]
  },
  {
   "cell_type": "code",
   "execution_count": 5,
   "id": "d99503ec-fbbf-44c5-8690-0e2c6e1c80c9",
   "metadata": {},
   "outputs": [
    {
     "name": "stdout",
     "output_type": "stream",
     "text": [
      "10\n",
      "9\n",
      "8\n",
      "7\n",
      "6\n",
      "5\n",
      "4\n",
      "3\n",
      "2\n",
      "1\n"
     ]
    }
   ],
   "source": [
    "value = 10 \n",
    "while (value > 0):\n",
    "    print(value)\n",
    "    value = value - 1\n",
    "    "
   ]
  },
  {
   "cell_type": "markdown",
   "id": "281bee58-8fe1-415f-967c-08a71c70b9be",
   "metadata": {},
   "source": [
    "# String datatype"
   ]
  },
  {
   "cell_type": "code",
   "execution_count": 10,
   "id": "3d255a08-b2a8-435c-afae-9fc42e3fc7de",
   "metadata": {},
   "outputs": [
    {
     "data": {
      "text/plain": [
       "'i'"
      ]
     },
     "execution_count": 10,
     "metadata": {},
     "output_type": "execute_result"
    }
   ],
   "source": [
    "name = 'Nilesh'\n",
    "name[1]"
   ]
  },
  {
   "cell_type": "code",
   "execution_count": 9,
   "id": "a8b22c61-a06e-4542-bbd8-164f631d343c",
   "metadata": {},
   "outputs": [
    {
     "data": {
      "text/plain": [
       "'h'"
      ]
     },
     "execution_count": 9,
     "metadata": {},
     "output_type": "execute_result"
    }
   ],
   "source": [
    "name[-1]"
   ]
  },
  {
   "cell_type": "code",
   "execution_count": null,
   "id": "81efeba6-1a3b-4cde-af45-d9cf3c70b644",
   "metadata": {},
   "outputs": [],
   "source": []
  },
  {
   "cell_type": "code",
   "execution_count": null,
   "id": "416288a6-6682-484d-8576-160ec3bc7045",
   "metadata": {},
   "outputs": [],
   "source": []
  },
  {
   "cell_type": "code",
   "execution_count": null,
   "id": "256411df-8f41-4080-8ddf-523e7f61af13",
   "metadata": {},
   "outputs": [],
   "source": []
  },
  {
   "cell_type": "markdown",
   "id": "18a677dd-b33c-4567-b5cd-9ce4e67079bf",
   "metadata": {},
   "source": [
    "# String Functions"
   ]
  },
  {
   "cell_type": "code",
   "execution_count": null,
   "id": "f33e1ba9-6e8c-4c61-9c55-f23df1f0d5f2",
   "metadata": {},
   "outputs": [],
   "source": []
  },
  {
   "cell_type": "code",
   "execution_count": null,
   "id": "ad9afedf-b38d-47aa-9298-5778409eed82",
   "metadata": {},
   "outputs": [],
   "source": []
  },
  {
   "cell_type": "code",
   "execution_count": null,
   "id": "39efd419-3b99-46ae-b831-ef2672103088",
   "metadata": {},
   "outputs": [],
   "source": []
  },
  {
   "cell_type": "code",
   "execution_count": null,
   "id": "20cbb0f4-dab3-4f67-b5b8-3a3994e62c4a",
   "metadata": {},
   "outputs": [],
   "source": []
  },
  {
   "cell_type": "markdown",
   "id": "17c14c93-0f87-4a14-9246-ec34058c06bb",
   "metadata": {},
   "source": [
    "# Data Structure\n",
    "    - list\n",
    "    - tuple\n",
    "    - set\n",
    "    - dictionary\n"
   ]
  },
  {
   "cell_type": "markdown",
   "id": "1f2e07b8-e0a4-4a8e-b858-51f3e30d0255",
   "metadata": {},
   "source": [
    "### List\n",
    "- List is a data Structure which is heterogeneous in nature and mutable "
   ]
  },
  {
   "cell_type": "code",
   "execution_count": 13,
   "id": "c8276446-5f3b-49d8-991c-a71bf0b84dbd",
   "metadata": {},
   "outputs": [
    {
     "data": {
      "text/plain": [
       "[1, 2, 3, 4]"
      ]
     },
     "execution_count": 13,
     "metadata": {},
     "output_type": "execute_result"
    }
   ],
   "source": [
    "my_list = [1,2,3,4]\n",
    "my_list"
   ]
  },
  {
   "cell_type": "code",
   "execution_count": 14,
   "id": "01f564bf-738a-4cb4-920b-ae55aafd3b97",
   "metadata": {},
   "outputs": [
    {
     "data": {
      "text/plain": [
       "4"
      ]
     },
     "execution_count": 14,
     "metadata": {},
     "output_type": "execute_result"
    }
   ],
   "source": [
    "len(my_list)"
   ]
  },
  {
   "cell_type": "code",
   "execution_count": 15,
   "id": "092ad19f-ab12-493b-88df-1ffeedfb99ca",
   "metadata": {},
   "outputs": [
    {
     "data": {
      "text/plain": [
       "2"
      ]
     },
     "execution_count": 15,
     "metadata": {},
     "output_type": "execute_result"
    }
   ],
   "source": [
    "my_list[1]"
   ]
  },
  {
   "cell_type": "code",
   "execution_count": 16,
   "id": "8171096f-9d79-44ec-958d-468b855069d8",
   "metadata": {},
   "outputs": [
    {
     "data": {
      "text/plain": [
       "2"
      ]
     },
     "execution_count": 16,
     "metadata": {},
     "output_type": "execute_result"
    }
   ],
   "source": [
    "my_list[-3]"
   ]
  },
  {
   "cell_type": "code",
   "execution_count": 17,
   "id": "0814de03-5de6-4e18-a608-26dfd72443ad",
   "metadata": {},
   "outputs": [
    {
     "data": {
      "text/plain": [
       "[1, 5, 3, 4]"
      ]
     },
     "execution_count": 17,
     "metadata": {},
     "output_type": "execute_result"
    }
   ],
   "source": [
    "# we can change value at given index in list \n",
    "# [1, 5, 3, 4]\n",
    "my_list[1] = 5\n",
    "my_list"
   ]
  },
  {
   "cell_type": "code",
   "execution_count": 19,
   "id": "20b82735-7e11-4c15-b36d-8e2a35fe57be",
   "metadata": {
    "scrolled": true
   },
   "outputs": [
    {
     "data": {
      "text/plain": [
       "[1, 5, 3, 4]"
      ]
     },
     "execution_count": 19,
     "metadata": {},
     "output_type": "execute_result"
    }
   ],
   "source": [
    "my_list"
   ]
  },
  {
   "cell_type": "code",
   "execution_count": 22,
   "id": "0460e0e2-01af-4193-9ba5-ee3bfc73b75f",
   "metadata": {},
   "outputs": [
    {
     "data": {
      "text/plain": [
       "3"
      ]
     },
     "execution_count": 22,
     "metadata": {},
     "output_type": "execute_result"
    }
   ],
   "source": [
    "my_list.index(4)"
   ]
  },
  {
   "cell_type": "code",
   "execution_count": null,
   "id": "a9a53ab6-d539-4779-87a8-218daf014204",
   "metadata": {},
   "outputs": [],
   "source": []
  },
  {
   "cell_type": "markdown",
   "id": "08d985d8-e20d-4ed0-beac-084fb0cdcef9",
   "metadata": {},
   "source": [
    "## tuple\n",
    "    - tuples are heterogenous data structure which are immutable"
   ]
  },
  {
   "cell_type": "code",
   "execution_count": 18,
   "id": "cab4d31a-e53e-4f9b-ae41-43072176ee1a",
   "metadata": {},
   "outputs": [
    {
     "data": {
      "text/plain": [
       "(1, 2, 3, 4)"
      ]
     },
     "execution_count": 18,
     "metadata": {},
     "output_type": "execute_result"
    }
   ],
   "source": [
    "my_tuple = (1,2,3,4)\n",
    "my_tuple"
   ]
  },
  {
   "cell_type": "code",
   "execution_count": null,
   "id": "614a67eb-ad1d-4b1a-8b09-526cc34e9add",
   "metadata": {},
   "outputs": [],
   "source": []
  },
  {
   "cell_type": "code",
   "execution_count": null,
   "id": "63c4cc3d-9283-4d5d-9f3e-94a7e8864ee2",
   "metadata": {},
   "outputs": [],
   "source": []
  },
  {
   "cell_type": "code",
   "execution_count": null,
   "id": "6a292768-8892-40e4-975a-a0c7667edcfe",
   "metadata": {},
   "outputs": [],
   "source": []
  },
  {
   "cell_type": "markdown",
   "id": "f77ac149-8cd3-433b-b8b6-37987ed76786",
   "metadata": {},
   "source": [
    "## set\n",
    "    - set are heterogenous data structure "
   ]
  },
  {
   "cell_type": "code",
   "execution_count": null,
   "id": "23779459-cc9e-4911-bd64-b8f2f377a42b",
   "metadata": {},
   "outputs": [],
   "source": []
  }
 ],
 "metadata": {
  "kernelspec": {
   "display_name": "Python 3 (ipykernel)",
   "language": "python",
   "name": "python3"
  },
  "language_info": {
   "codemirror_mode": {
    "name": "ipython",
    "version": 3
   },
   "file_extension": ".py",
   "mimetype": "text/x-python",
   "name": "python",
   "nbconvert_exporter": "python",
   "pygments_lexer": "ipython3",
   "version": "3.12.1"
  }
 },
 "nbformat": 4,
 "nbformat_minor": 5
}
