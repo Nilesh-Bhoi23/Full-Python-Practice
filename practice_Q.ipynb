{
 "cells": [
  {
   "cell_type": "code",
   "execution_count": null,
   "metadata": {},
   "outputs": [],
   "source": [
    "# First and Last Digit\n",
    "# Given an integer N . Write a program to obtain the sum of the first and last digits of this number.\n",
    "\n",
    "# Input Format\n",
    "# The first line contains an integer T, the total number of test cases. Then follow T lines, each line contains an integer N.\n",
    "\n",
    "# Output Format\n",
    "# For each test case, display the sum of first and last digits of N in a new line.\n",
    "\n",
    "# in        out\n",
    "\n",
    "# 3            \n",
    "# 1234      5\n",
    "# 124894    5\n",
    "# 242323    5"
   ]
  },
  {
   "cell_type": "code",
   "execution_count": null,
   "metadata": {},
   "outputs": [],
   "source": [
    "t = int(input())\n",
    "for i in range(t):\n",
    "    n = input()\n",
    "    print(int(n[0]) + int(n[-1]))\n"
   ]
  }
 ],
 "metadata": {
  "language_info": {
   "name": "python"
  }
 },
 "nbformat": 4,
 "nbformat_minor": 2
}
