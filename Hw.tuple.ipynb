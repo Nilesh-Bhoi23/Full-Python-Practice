{
 "cells": [
  {
   "cell_type": "code",
   "execution_count": 1,
   "id": "8bfd0f91-11a7-40e9-9206-77c435568373",
   "metadata": {},
   "outputs": [
    {
     "name": "stdout",
     "output_type": "stream",
     "text": [
      "5\n"
     ]
    }
   ],
   "source": [
    "# 1) len(tuple): Returns the number of elements in the tuple.\n",
    "my_tuple = (1, 2, 3, 4, 5)\n",
    "print(len(my_tuple))  # Output: 5"
   ]
  },
  {
   "cell_type": "code",
   "execution_count": 2,
   "id": "73e43b4d-e945-49ba-afd4-610acbeca943",
   "metadata": {},
   "outputs": [
    {
     "name": "stdout",
     "output_type": "stream",
     "text": [
      "3\n"
     ]
    }
   ],
   "source": [
    "# 2) count(element): Returns the number of occurrences of the specified element in the tuple.\n",
    "my_tuple = (1, 2, 3, 2, 4, 2)\n",
    "count = my_tuple.count(2)\n",
    "print(count)  # Output: 3"
   ]
  },
  {
   "cell_type": "code",
   "execution_count": 3,
   "id": "8f238ae0-c9b5-4a93-93de-b063a1fbeb02",
   "metadata": {},
   "outputs": [
    {
     "name": "stdout",
     "output_type": "stream",
     "text": [
      "1\n"
     ]
    }
   ],
   "source": [
    "# 3) index(element): Returns the index of the first occurrence of the specified element.\n",
    "my_tuple = (1, 2, 3, 2, 4, 2)\n",
    "index = my_tuple.index(2)\n",
    "print(index)  # Output: 1"
   ]
  },
  {
   "cell_type": "code",
   "execution_count": 4,
   "id": "63a761a4-0829-4c51-a886-a3e0c237263e",
   "metadata": {},
   "outputs": [
    {
     "name": "stdout",
     "output_type": "stream",
     "text": [
      "(1, 2, 3, 4, 5, 6)\n"
     ]
    }
   ],
   "source": [
    "# 4) +(tuple): Concatenates two tuples.\n",
    "tuple1 = (1, 2, 3)\n",
    "tuple2 = (4, 5, 6)\n",
    "result_tuple = tuple1 + tuple2\n",
    "print(result_tuple)  # Output: (1, 2, 3, 4, 5, 6)"
   ]
  },
  {
   "cell_type": "code",
   "execution_count": 5,
   "id": "ad2a43ae-2634-4acf-9d90-228b983593d5",
   "metadata": {},
   "outputs": [
    {
     "name": "stdout",
     "output_type": "stream",
     "text": [
      "(1, 2, 3, 1, 2, 3, 1, 2, 3)\n"
     ]
    }
   ],
   "source": [
    "# 5) *(n): Creates a new tuple by repeating the original tuple 'n' times.\n",
    "my_tuple = (1, 2, 3)\n",
    "repeated_tuple = my_tuple * 3\n",
    "print(repeated_tuple)  # Output: (1, 2, 3, 1, 2, 3, 1, 2, 3)"
   ]
  },
  {
   "cell_type": "code",
   "execution_count": 7,
   "id": "ca484567-612e-4f93-893e-1832e3a24cb6",
   "metadata": {},
   "outputs": [
    {
     "name": "stdout",
     "output_type": "stream",
     "text": [
      "(1, 2, 3)\n"
     ]
    }
   ],
   "source": [
    "# 6) tuple(iterable): Converts an iterable (e.g., list) into a tuple.\n",
    "my_list = [1, 2, 3]\n",
    "my_tuple = tuple(my_list)\n",
    "print(my_tuple)  # Output: (1, 2, 3)"
   ]
  },
  {
   "cell_type": "code",
   "execution_count": 8,
   "id": "984c9eb7-8390-426a-a0f2-fabcf5e96e92",
   "metadata": {},
   "outputs": [
    {
     "name": "stdout",
     "output_type": "stream",
     "text": [
      "(1, 1, 2, 3, 4, 5, 9)\n"
     ]
    }
   ],
   "source": [
    "# 7) sorted(iterable): Returns a new sorted list from the elements of any iterable.\n",
    "my_tuple = (3, 1, 4, 1, 5, 9, 2)\n",
    "sorted_tuple = tuple(sorted(my_tuple))\n",
    "print(sorted_tuple)  # Output: (1, 1, 2, 3, 4, 5, 9)"
   ]
  },
  {
   "cell_type": "code",
   "execution_count": 9,
   "id": "ad742063-86f2-4f03-882c-f16503013b04",
   "metadata": {},
   "outputs": [
    {
     "name": "stdout",
     "output_type": "stream",
     "text": [
      "9 1\n"
     ]
    }
   ],
   "source": [
    "# 8) max(tuple) and min(tuple): Returns the maximum and minimum values in a tuple, respectively.\n",
    "my_tuple = (3, 1, 4, 1, 5, 9, 2)\n",
    "max_value = max(my_tuple)\n",
    "min_value = min(my_tuple)\n",
    "print(max_value, min_value)  # Output: 9 1"
   ]
  }
 ],
 "metadata": {
  "kernelspec": {
   "display_name": "Python 3 (ipykernel)",
   "language": "python",
   "name": "python3"
  },
  "language_info": {
   "codemirror_mode": {
    "name": "ipython",
    "version": 3
   },
   "file_extension": ".py",
   "mimetype": "text/x-python",
   "name": "python",
   "nbconvert_exporter": "python",
   "pygments_lexer": "ipython3",
   "version": "3.12.1"
  }
 },
 "nbformat": 4,
 "nbformat_minor": 5
}
