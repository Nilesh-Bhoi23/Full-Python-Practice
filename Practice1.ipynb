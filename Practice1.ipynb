{
 "cells": [
  {
   "cell_type": "code",
   "execution_count": 2,
   "metadata": {},
   "outputs": [],
   "source": [
    "# Chef wants to become fit for which he decided to walk to the office and return home by walking. It is known that Chef's office is \n",
    "# �\n",
    "# X km away from his home.\n",
    "\n",
    "# If his office is open on \n",
    "# 5\n",
    "# 5 days in a week, find the number of kilometers Chef travels through office trips in a week.\n",
    "\n",
    "# input \n",
    "# First line will contain \n",
    "# T, number of test cases. Then the test cases follow.\n",
    "# Each test case contains of a single line consisting of single integer \n",
    "# X.\n",
    "\n",
    "# output \n",
    "# 4    40\n",
    "# 1    10\n",
    "# 3    30\n",
    "# 7    70\n",
    "# 10   100\n",
    "\n",
    "\n"
   ]
  },
  {
   "cell_type": "code",
   "execution_count": 6,
   "metadata": {},
   "outputs": [
    {
     "name": "stdout",
     "output_type": "stream",
     "text": [
      "20\n"
     ]
    }
   ],
   "source": [
    "t = int(input())\n",
    "\n",
    "while t > 0:\n",
    "    x = int(input())\n",
    "    t -= 1\n",
    "    print(x * 10)\n"
   ]
  }
 ],
 "metadata": {
  "kernelspec": {
   "display_name": "Python 3",
   "language": "python",
   "name": "python3"
  },
  "language_info": {
   "codemirror_mode": {
    "name": "ipython",
    "version": 3
   },
   "file_extension": ".py",
   "mimetype": "text/x-python",
   "name": "python",
   "nbconvert_exporter": "python",
   "pygments_lexer": "ipython3",
   "version": "3.11.8"
  }
 },
 "nbformat": 4,
 "nbformat_minor": 2
}
