{
 "cells": [
  {
   "cell_type": "code",
   "execution_count": null,
   "id": "01aa11a7-c50c-4b95-a4e0-3e1cd0eecbc4",
   "metadata": {},
   "outputs": [],
   "source": [
    "# Nilesh Bhoi\n",
    "# [ expression condition ]"
   ]
  },
  {
   "cell_type": "code",
   "execution_count": 1,
   "id": "e7d2505e-66c5-460d-8473-d4fbed62e2b4",
   "metadata": {},
   "outputs": [
    {
     "data": {
      "text/plain": [
       "['apple']"
      ]
     },
     "execution_count": 1,
     "metadata": {},
     "output_type": "execute_result"
    }
   ],
   "source": [
    "# Q fruit_list = ['apple','mango','banana','graps'] in this list seprate the fruit which start whith a .\n",
    "\n",
    "fruit_list = ['apple','mango','banana','graps']\n",
    "filter_list = [value for value in fruit_list if 'a' in value[0]]\n",
    "filter_list"
   ]
  },
  {
   "cell_type": "code",
   "execution_count": 36,
   "id": "1600074b-5141-47cd-981b-80034a2e0e57",
   "metadata": {},
   "outputs": [
    {
     "data": {
      "text/plain": [
       "[1, 5, 7, 9]"
      ]
     },
     "execution_count": 36,
     "metadata": {},
     "output_type": "execute_result"
    }
   ],
   "source": [
    "# print odd-numbers\n",
    "number_list = [1, 2, 5, 7, 9, 10, 12]\n",
    "odd_list = [value for value in number_list if value % 2 != 0]\n",
    "odd_list"
   ]
  },
  {
   "cell_type": "code",
   "execution_count": 37,
   "id": "cd4b2189-c580-41c6-8920-bae794ee3f2b",
   "metadata": {},
   "outputs": [
    {
     "data": {
      "text/plain": [
       "[2, 10, 12]"
      ]
     },
     "execution_count": 37,
     "metadata": {},
     "output_type": "execute_result"
    }
   ],
   "source": [
    "# Print even-numbers\n",
    "number_list = [1, 2, 5, 7, 9, 10, 12]\n",
    "even_list = [value for value in number_list if value % 2 == 0]\n",
    "even_list"
   ]
  },
  {
   "cell_type": "code",
   "execution_count": 38,
   "id": "d3e2800d-5bfd-4edc-8324-290ffe4b333e",
   "metadata": {},
   "outputs": [
    {
     "data": {
      "text/plain": [
       "['apple', 'mango', 'banana', 'graps']"
      ]
     },
     "execution_count": 38,
     "metadata": {},
     "output_type": "execute_result"
    }
   ],
   "source": [
    "fruit_list"
   ]
  },
  {
   "cell_type": "code",
   "execution_count": 40,
   "id": "aeb86774-b71a-4844-861d-1f81be469032",
   "metadata": {},
   "outputs": [
    {
     "data": {
      "text/plain": [
       "['APPLE', 'MANGO', 'BANANA', 'GRAPS']"
      ]
     },
     "execution_count": 40,
     "metadata": {},
     "output_type": "execute_result"
    }
   ],
   "source": [
    "# List convert to Upper-Case\n",
    "upper_list = [value.upper() for value in fruit_list]\n",
    "upper_list"
   ]
  },
  {
   "cell_type": "code",
   "execution_count": 41,
   "id": "df2b338e-8536-4318-8d15-347db8f3b2e6",
   "metadata": {},
   "outputs": [
    {
     "data": {
      "text/plain": [
       "['apple', 'mango', 'banana', 'graps']"
      ]
     },
     "execution_count": 41,
     "metadata": {},
     "output_type": "execute_result"
    }
   ],
   "source": [
    "# List convert to Lower-Case\n",
    "upper_list = ['APPLE', 'MANGO', 'BANANA', 'GRAPS']\n",
    "lower_list = [value.lower() for value in upper_list]\n",
    "lower_list"
   ]
  },
  {
   "cell_type": "code",
   "execution_count": 45,
   "id": "dc8bbbff-b98e-43bf-a510-9f44fc7dab7c",
   "metadata": {},
   "outputs": [
    {
     "data": {
      "text/plain": [
       "[2, 4, 6, 8, 10, 12, 14, 16, 18, 20]"
      ]
     },
     "execution_count": 45,
     "metadata": {},
     "output_type": "execute_result"
    }
   ],
   "source": [
    "# Table of two\n",
    "two_table = [value*2 for value in range(1,11)]\n",
    "two_table"
   ]
  },
  {
   "cell_type": "code",
   "execution_count": 46,
   "id": "944c24d0-4c4e-4d80-b128-fe14513f022f",
   "metadata": {},
   "outputs": [
    {
     "data": {
      "text/plain": [
       "[8, 16, 24, 32, 40, 48, 56, 64, 72, 80]"
      ]
     },
     "execution_count": 46,
     "metadata": {},
     "output_type": "execute_result"
    }
   ],
   "source": [
    "# Table of eight\n",
    "eight_table = [value*8 for value in range(1,11)]\n",
    "eight_table"
   ]
  },
  {
   "cell_type": "code",
   "execution_count": 49,
   "id": "92a28f5a-02c5-486d-9386-f0ccfbc4dc94",
   "metadata": {},
   "outputs": [
    {
     "data": {
      "text/plain": [
       "[4, 36, 64, 1369, 25, 441, 1681]"
      ]
     },
     "execution_count": 49,
     "metadata": {},
     "output_type": "execute_result"
    }
   ],
   "source": [
    "# square-root\n",
    "sq_list = [2,6,8,37,5,21,41]\n",
    "square_list = [value*value for value in sq_list]\n",
    "square_list"
   ]
  },
  {
   "cell_type": "code",
   "execution_count": 51,
   "id": "0db0448b-7740-4bc4-966d-4eb15475b153",
   "metadata": {},
   "outputs": [
    {
     "data": {
      "text/plain": [
       "[4, 36, 64, 1369, 25, 441, 1681]"
      ]
     },
     "execution_count": 51,
     "metadata": {},
     "output_type": "execute_result"
    }
   ],
   "source": [
    "sq_list = [2,6,8,37,5,21,41]\n",
    "square_list = [value**2 for value in sq_list]\n",
    "square_list"
   ]
  },
  {
   "cell_type": "code",
   "execution_count": 52,
   "id": "1af86f7a-672f-4cce-8100-af027cd7a17a",
   "metadata": {},
   "outputs": [
    {
     "data": {
      "text/plain": [
       "[27, 125, 1, 8, 512, 729, 274625, 39304]"
      ]
     },
     "execution_count": 52,
     "metadata": {},
     "output_type": "execute_result"
    }
   ],
   "source": [
    "# exponential\n",
    "ep_list = [3,5,1,2,8,9,65,34]\n",
    "exponential_list = [value**3 for value in ep_list]\n",
    "exponential_list"
   ]
  },
  {
   "cell_type": "code",
   "execution_count": 53,
   "id": "2ec9c7d7-d63f-4b7d-9d69-6d5cf842c01c",
   "metadata": {},
   "outputs": [
    {
     "name": "stdin",
     "output_type": "stream",
     "text": [
      "enter value a : 4\n",
      "enter value b : 5\n"
     ]
    },
    {
     "name": "stdout",
     "output_type": "stream",
     "text": [
      "20\n"
     ]
    }
   ],
   "source": [
    "# multipication (runtime user value)\n",
    "a = int(input('enter value a :'))\n",
    "b = int(input('enter value b :'))\n",
    "print(a*b)"
   ]
  }
 ],
 "metadata": {
  "kernelspec": {
   "display_name": "Python 3 (ipykernel)",
   "language": "python",
   "name": "python3"
  },
  "language_info": {
   "codemirror_mode": {
    "name": "ipython",
    "version": 3
   },
   "file_extension": ".py",
   "mimetype": "text/x-python",
   "name": "python",
   "nbconvert_exporter": "python",
   "pygments_lexer": "ipython3",
   "version": "3.12.1"
  }
 },
 "nbformat": 4,
 "nbformat_minor": 5
}
