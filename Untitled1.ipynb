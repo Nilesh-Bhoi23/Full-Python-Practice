{
 "cells": [
  {
   "cell_type": "markdown",
   "id": "ec9aaf9c-aff9-4ad2-a19e-66d56e55ac55",
   "metadata": {},
   "source": [
    "### Practice Q\n"
   ]
  },
  {
   "cell_type": "code",
   "execution_count": 16,
   "id": "27f5a1fd-60f7-40e1-9ad5-bc66b012b17b",
   "metadata": {},
   "outputs": [
    {
     "data": {
      "text/plain": [
       "[[1, 3, 4], [5, 8, 10], [2, 9, 8]]"
      ]
     },
     "execution_count": 16,
     "metadata": {},
     "output_type": "execute_result"
    }
   ],
   "source": [
    "my_list = [[1,3,4],[5,8,10],[2,9,8]]\n",
    "sub_list = my_list[0:]\n",
    "sub_list"
   ]
  },
  {
   "cell_type": "code",
   "execution_count": 14,
   "id": "9b307347-e95e-4499-b7e2-98320929fbf9",
   "metadata": {},
   "outputs": [
    {
     "data": {
      "text/plain": [
       "[[1, 3, 4], [5, 8, 10], [2, 9, 8]]"
      ]
     },
     "execution_count": 14,
     "metadata": {},
     "output_type": "execute_result"
    }
   ],
   "source": [
    "my_list = [[1,3,4],[5,8,10],[2,9,8]]\n",
    "sub_list = my_list[:][0:]\n",
    "sub_list"
   ]
  },
  {
   "cell_type": "code",
   "execution_count": 30,
   "id": "01598e00-627d-4b7d-88d9-b0e9cfaf0bcd",
   "metadata": {},
   "outputs": [
    {
     "name": "stdout",
     "output_type": "stream",
     "text": [
      "[1, 3, 4]\n",
      "[5, 8, 10]\n",
      "[2, 9, 8]\n"
     ]
    }
   ],
   "source": [
    "my_list = [[1,3,4],[5,8,10],[2,9,8]]\n",
    "s_list = []\n",
    "for sub_list in my_list:\n",
    "    print(sub_list)\n",
    "    s_list.extend(sub_list)"
   ]
  },
  {
   "cell_type": "code",
   "execution_count": 32,
   "id": "3c402301-49cd-4cd7-baf8-d76a2363f272",
   "metadata": {},
   "outputs": [
    {
     "data": {
      "text/plain": [
       "[1, 3, 4, 5, 8, 10, 2, 9, 8]"
      ]
     },
     "execution_count": 32,
     "metadata": {},
     "output_type": "execute_result"
    }
   ],
   "source": [
    "s_list"
   ]
  },
  {
   "cell_type": "code",
   "execution_count": 38,
   "id": "5786fce7-ccd7-49ce-9dfb-51ee1cbe8e89",
   "metadata": {},
   "outputs": [
    {
     "name": "stdout",
     "output_type": "stream",
     "text": [
      "50\n"
     ]
    },
    {
     "data": {
      "text/plain": [
       "5.555555555555555"
      ]
     },
     "execution_count": 38,
     "metadata": {},
     "output_type": "execute_result"
    }
   ],
   "source": [
    "sum_list = sum(s_list)\n",
    "print(sum_list)\n",
    "avg = sum_list/len(s_list)\n",
    "avg"
   ]
  },
  {
   "cell_type": "code",
   "execution_count": 48,
   "id": "77452c6b-8db9-433e-8814-03c368da8b74",
   "metadata": {},
   "outputs": [
    {
     "name": "stdout",
     "output_type": "stream",
     "text": [
      "1\n",
      "3\n",
      "5\n",
      "9\n",
      "addition =  18\n",
      "2.0\n"
     ]
    }
   ],
   "source": [
    "for i in s_list:\n",
    "    if i % 2 != 0:\n",
    "        print(i)\n",
    "        add = i + i\n",
    "print('addition = ',add)\n",
    "avg = add/len(s_list)\n",
    "print(avg)"
   ]
  },
  {
   "cell_type": "code",
   "execution_count": 67,
   "id": "2de10583-5f5c-49ed-b723-e9210df01695",
   "metadata": {},
   "outputs": [
    {
     "data": {
      "text/plain": [
       "{'name': 89, 'nilesh': 78, 'yogesh': 90}"
      ]
     },
     "execution_count": 67,
     "metadata": {},
     "output_type": "execute_result"
    }
   ],
   "source": [
    "# write a program create dictionary containing students name as key and marks as value using two list containing names and marks\n",
    "\n",
    "name = ['name','nilesh','yogesh']\n",
    "marks = [89,78,90]\n",
    "o_dic = {}\n",
    "for i in range(len(name)):\n",
    "    n1 = name[i]\n",
    "    m1 = marks[i]\n",
    "    o_dic[n1] = m1\n",
    "o_dic"
   ]
  },
  {
   "cell_type": "code",
   "execution_count": 72,
   "id": "23b4295f-4862-4c1b-8395-05ced2b56930",
   "metadata": {},
   "outputs": [
    {
     "name": "stdout",
     "output_type": "stream",
     "text": [
      "int_list [18, 28]\n",
      "float_list [1.8, 2.4]\n",
      "str_list ['18', 'mehul']\n",
      "other_list [[1, 2, 3], (1, 2)]\n"
     ]
    }
   ],
   "source": [
    "my_list = [18,'18','mehul' ,1.80,[1,2,3],2.4,28,(1,2)]\n",
    "int_list = []\n",
    "float_list = []\n",
    "str_list = []\n",
    "other_list = []\n",
    "for value in my_list:\n",
    "    _type = type(value)\n",
    "    if _type == int:\n",
    "        int_list.append(value)\n",
    "    elif _type == float:\n",
    "        float_list.append(value)\n",
    "    elif _type == str:\n",
    "        str_list.append(value)\n",
    "    else:\n",
    "        other_list.append(value)\n",
    "\n",
    "print('int_list',int_list)\n",
    "print('float_list',float_list)\n",
    "print('str_list',str_list) \n",
    "print('other_list',other_list)"
   ]
  },
  {
   "cell_type": "code",
   "execution_count": 84,
   "id": "ddc60935-2ee0-4a67-8c15-85fb7ee175d1",
   "metadata": {},
   "outputs": [
    {
     "ename": "IndentationError",
     "evalue": "unexpected indent (1557455966.py, line 4)",
     "output_type": "error",
     "traceback": [
      "\u001b[1;36m  Cell \u001b[1;32mIn[84], line 4\u001b[1;36m\u001b[0m\n\u001b[1;33m    if value == u_input:\u001b[0m\n\u001b[1;37m    ^\u001b[0m\n\u001b[1;31mIndentationError\u001b[0m\u001b[1;31m:\u001b[0m unexpected indent\n"
     ]
    }
   ],
   "source": [
    "my_list = [8,7,6,2,1,15,18,20]\n",
    "u_input = int(input('Enter Number :'))\n",
    "\n",
    "    if value == u_input:\n",
    "        ind_val = my_list.index(value)\n",
    "        print(f'index value :{my_list.index(value)}')\n",
    "    else:\n",
    "        print('user input Not in my list')"
   ]
  },
  {
   "cell_type": "code",
   "execution_count": null,
   "id": "714d023a-09cc-4af3-932d-97dfdff2f603",
   "metadata": {},
   "outputs": [],
   "source": [
    " "
   ]
  }
 ],
 "metadata": {
  "kernelspec": {
   "display_name": "Python 3 (ipykernel)",
   "language": "python",
   "name": "python3"
  },
  "language_info": {
   "codemirror_mode": {
    "name": "ipython",
    "version": 3
   },
   "file_extension": ".py",
   "mimetype": "text/x-python",
   "name": "python",
   "nbconvert_exporter": "python",
   "pygments_lexer": "ipython3",
   "version": "3.12.1"
  }
 },
 "nbformat": 4,
 "nbformat_minor": 5
}
