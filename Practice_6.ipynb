{
 "cells": [
  {
   "cell_type": "code",
   "execution_count": null,
   "metadata": {},
   "outputs": [],
   "source": [
    "# Cricket Match\n",
    "# There is a cricket match in Chefland. Chef's team requires \n",
    "# �\n",
    "# N runs to win in \n",
    "# �\n",
    "# M overs.\n",
    "\n",
    "# Given that \n",
    "# 1\n",
    "# 1 over consists of \n",
    "# 6\n",
    "# 6 balls and a player can score a maximum of \n",
    "# 6\n",
    "# 6 runs in a ball, find whether Chef's team can win.\n",
    "\n",
    "# Input Format\n",
    "# The first line of input will contain a single integer \n",
    "# �\n",
    "# T, denoting the number of test cases.\n",
    "# Each test case consists of two space-separated integers \n",
    "# �\n",
    "# N and \n",
    "# �\n",
    "# M — the number of runs required to win the game and the remaining number of overs.\n",
    "# Output Format\n",
    "# For each test case, output on a new line, YES, if Chef's team can win the game. Otherwise, output NO.\n",
    "\n",
    "# You can print each character in uppercase or lowercase. For example NO, no, No, and nO are all considered identical.\n",
    "\n",
    "# IN         OUTPUT\n",
    "# 4          \n",
    "# 500 20    YES\n",
    "# 100 2     NO\n",
    "# 30 1      YES\n",
    "# 216 6     YES"
   ]
  },
  {
   "cell_type": "code",
   "execution_count": null,
   "metadata": {},
   "outputs": [],
   "source": [
    "t =int(input())\n",
    "for i in range(t):\n",
    "    n,m = map(int,input().split())\n",
    "    if n <= (m *36):\n",
    "        print(\"YES\")\n",
    "    else:\n",
    "        print(\"NO\")"
   ]
  }
 ],
 "metadata": {
  "language_info": {
   "name": "python"
  }
 },
 "nbformat": 4,
 "nbformat_minor": 2
}
